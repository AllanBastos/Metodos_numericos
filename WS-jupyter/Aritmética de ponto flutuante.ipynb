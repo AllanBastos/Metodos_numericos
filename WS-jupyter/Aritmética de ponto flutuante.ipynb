{
 "cells": [
  {
   "cell_type": "markdown",
   "id": "22885ff7-cf5f-4067-8298-39e41bde5fee",
   "metadata": {},
   "source": [
    "<div style=\"background-color: #0099ff; padding: 20px; border-top: 10px solid #80ccff; border-bottom: 10px solid #80ccff\" >\n",
    "    <center> \n",
    "        <h1 style=\"color: #fff; line-height: 1.5em\"> Aritmética de Ponto Flutuante <br> e Tratamento de Erros</h1>\n",
    "    </center>\n",
    "</div>"
   ]
  },
  {
   "cell_type": "code",
   "execution_count": 1,
   "id": "734be808-8f77-4661-8ba6-6df1d35aca13",
   "metadata": {},
   "outputs": [],
   "source": [
    "import numpy as np"
   ]
  },
  {
   "cell_type": "code",
   "execution_count": 2,
   "id": "03406dc5-e7bc-4bc5-93c2-7e7caa0cbb10",
   "metadata": {},
   "outputs": [
    {
     "name": "stdout",
     "output_type": "stream",
     "text": [
      "5.00000e+04\n",
      "3.25000e-01\n"
     ]
    }
   ],
   "source": [
    "print(\"%1.5e\" % 50000)\n",
    "print(\"%1.5e\" % 0.325)"
   ]
  },
  {
   "cell_type": "code",
   "execution_count": 3,
   "id": "10bdd47e-1216-4f4c-9c3b-51427b88c1f3",
   "metadata": {},
   "outputs": [
    {
     "data": {
      "text/plain": [
       "'5.e+04'"
      ]
     },
     "execution_count": 3,
     "metadata": {},
     "output_type": "execute_result"
    }
   ],
   "source": [
    "np.format_float_scientific(50000)"
   ]
  },
  {
   "cell_type": "code",
   "execution_count": 4,
   "id": "9cc2c5ac-a2bf-46c9-ac4d-cde04eaf1c76",
   "metadata": {},
   "outputs": [
    {
     "data": {
      "text/plain": [
       "'3.25e-01'"
      ]
     },
     "execution_count": 4,
     "metadata": {},
     "output_type": "execute_result"
    }
   ],
   "source": [
    "np.format_float_scientific(0.325)"
   ]
  },
  {
   "cell_type": "code",
   "execution_count": 5,
   "id": "169e1d13-a1d5-40c5-82d1-b356ecac55e6",
   "metadata": {},
   "outputs": [],
   "source": [
    "def racionais(x):\n",
    "    num, den = x.as_integer_ratio()\n",
    "    return print(num,'/',den)"
   ]
  },
  {
   "cell_type": "code",
   "execution_count": 6,
   "id": "913a3664-4d89-452e-89b7-c87c8ad49b9f",
   "metadata": {},
   "outputs": [
    {
     "name": "stdout",
     "output_type": "stream",
     "text": [
      "10 / 1\n"
     ]
    }
   ],
   "source": [
    "racionais(10)"
   ]
  },
  {
   "cell_type": "code",
   "execution_count": 7,
   "id": "4c1bcac9-176e-4740-b9d5-88d744739c14",
   "metadata": {},
   "outputs": [
    {
     "name": "stdout",
     "output_type": "stream",
     "text": [
      "7070651414971679 / 2251799813685248\n"
     ]
    }
   ],
   "source": [
    "racionais(3.14)"
   ]
  },
  {
   "cell_type": "code",
   "execution_count": 8,
   "id": "e156bfb2-2c61-4e52-a66d-24ade31126c8",
   "metadata": {},
   "outputs": [
    {
     "name": "stdout",
     "output_type": "stream",
     "text": [
      "3537118140137533 / 1125899906842624\n"
     ]
    }
   ],
   "source": [
    "racionais(3.141592)"
   ]
  },
  {
   "cell_type": "code",
   "execution_count": 9,
   "id": "5c5d6f50-ed82-4f5d-b1ac-03ee97d0d36a",
   "metadata": {},
   "outputs": [
    {
     "data": {
      "text/plain": [
       "(0.5960464477539062, 24)"
      ]
     },
     "execution_count": 9,
     "metadata": {},
     "output_type": "execute_result"
    }
   ],
   "source": [
    "np.frexp(10000000)"
   ]
  },
  {
   "cell_type": "code",
   "execution_count": 10,
   "id": "be8b0028-e98b-4246-a22d-5fb64420fac4",
   "metadata": {},
   "outputs": [
    {
     "data": {
      "text/plain": [
       "10000000.0"
      ]
     },
     "execution_count": 10,
     "metadata": {},
     "output_type": "execute_result"
    }
   ],
   "source": [
    "0.5960464477539062*2**24"
   ]
  },
  {
   "cell_type": "code",
   "execution_count": 11,
   "id": "ecd49634-2b52-426b-8e0b-c14b4e4e29c4",
   "metadata": {},
   "outputs": [
    {
     "data": {
      "text/plain": [
       "100000000.0"
      ]
     },
     "execution_count": 11,
     "metadata": {},
     "output_type": "execute_result"
    }
   ],
   "source": [
    "1. * 10**8"
   ]
  },
  {
   "cell_type": "code",
   "execution_count": 12,
   "id": "6e8bbb28-4e61-4f9f-b6b0-d38733add1dc",
   "metadata": {},
   "outputs": [],
   "source": [
    "a = 1e+308"
   ]
  },
  {
   "cell_type": "code",
   "execution_count": 13,
   "id": "49b4fa44-89c5-4719-ba49-17dac39fb4e2",
   "metadata": {},
   "outputs": [
    {
     "data": {
      "text/plain": [
       "True"
      ]
     },
     "execution_count": 13,
     "metadata": {},
     "output_type": "execute_result"
    }
   ],
   "source": [
    "a == a + (a - a)"
   ]
  },
  {
   "cell_type": "code",
   "execution_count": 14,
   "id": "d5d12ca4-b728-4520-b843-ad7de2dac4e7",
   "metadata": {},
   "outputs": [
    {
     "data": {
      "text/plain": [
       "False"
      ]
     },
     "execution_count": 14,
     "metadata": {},
     "output_type": "execute_result"
    }
   ],
   "source": [
    "a == (a + a) - a"
   ]
  },
  {
   "cell_type": "code",
   "execution_count": 15,
   "id": "22899ac2-3aac-4838-b8fd-ea8f3155519d",
   "metadata": {},
   "outputs": [
    {
     "data": {
      "text/plain": [
       "inf"
      ]
     },
     "execution_count": 15,
     "metadata": {},
     "output_type": "execute_result"
    }
   ],
   "source": [
    "a + a"
   ]
  },
  {
   "cell_type": "code",
   "execution_count": 16,
   "id": "2ced76b6-260a-4e7a-8470-25fe39d71249",
   "metadata": {},
   "outputs": [
    {
     "data": {
      "text/plain": [
       "5e-324"
      ]
     },
     "execution_count": 16,
     "metadata": {},
     "output_type": "execute_result"
    }
   ],
   "source": [
    "b=2**(-1074)\n",
    "b"
   ]
  },
  {
   "cell_type": "code",
   "execution_count": 17,
   "id": "91617cfc-f026-4923-b20e-20bffc32da80",
   "metadata": {},
   "outputs": [
    {
     "data": {
      "text/plain": [
       "False"
      ]
     },
     "execution_count": 17,
     "metadata": {},
     "output_type": "execute_result"
    }
   ],
   "source": [
    "b == b/2 * 2"
   ]
  },
  {
   "cell_type": "code",
   "execution_count": 18,
   "id": "d18ae95e-5a5d-4cab-98fe-d4f2f388dec7",
   "metadata": {},
   "outputs": [
    {
     "data": {
      "text/plain": [
       "0.0"
      ]
     },
     "execution_count": 18,
     "metadata": {},
     "output_type": "execute_result"
    }
   ],
   "source": [
    "b/2"
   ]
  },
  {
   "cell_type": "code",
   "execution_count": 19,
   "id": "eb7bc39f-e1b6-4fc2-850f-32b800b02f91",
   "metadata": {},
   "outputs": [],
   "source": [
    "import sys"
   ]
  },
  {
   "cell_type": "code",
   "execution_count": 20,
   "id": "3168f1a0-dccd-45ad-ab37-0759051d16d5",
   "metadata": {},
   "outputs": [
    {
     "data": {
      "text/plain": [
       "2.220446049250313e-16"
      ]
     },
     "execution_count": 20,
     "metadata": {},
     "output_type": "execute_result"
    }
   ],
   "source": [
    "sys.float_info.epsilon"
   ]
  },
  {
   "cell_type": "code",
   "execution_count": 21,
   "id": "563393d0-2020-431b-be8c-4dd8ba44e5d1",
   "metadata": {},
   "outputs": [
    {
     "data": {
      "text/plain": [
       "finfo(resolution=0.001, min=-6.55040e+04, max=6.55040e+04, dtype=float16)"
      ]
     },
     "execution_count": 21,
     "metadata": {},
     "output_type": "execute_result"
    }
   ],
   "source": [
    "np.finfo(dtype=np.float16)"
   ]
  },
  {
   "cell_type": "code",
   "execution_count": 22,
   "id": "8cf86a82-31f0-4c1d-a9a3-d104a618c623",
   "metadata": {},
   "outputs": [],
   "source": [
    "def Info_Mach(tipo):\n",
    "    print('Nº de bits usados: ', np.finfo(dtype=tipo).bits)\n",
    "    print('Epsilon da máquina: ', np.finfo(dtype=tipo).eps)\n",
    "    print('Máximo valor: ', np.finfo(dtype=tipo).max)\n",
    "    print('Mínimo valor: ', np.finfo(dtype=tipo).min)"
   ]
  },
  {
   "cell_type": "code",
   "execution_count": 23,
   "id": "52e0d7e5-1966-4bce-a13d-1c7a8d5c20f4",
   "metadata": {},
   "outputs": [
    {
     "name": "stdout",
     "output_type": "stream",
     "text": [
      "Nº de bits usados:  16\n",
      "Epsilon da máquina:  0.000977\n",
      "Máximo valor:  65500.0\n",
      "Mínimo valor:  -65500.0\n"
     ]
    }
   ],
   "source": [
    " Info_Mach(np.float16)"
   ]
  },
  {
   "cell_type": "code",
   "execution_count": 24,
   "id": "bee24eb3-541b-4051-a89f-81ad5c4ddbff",
   "metadata": {},
   "outputs": [
    {
     "name": "stdout",
     "output_type": "stream",
     "text": [
      "Nº de bits usados:  32\n",
      "Epsilon da máquina:  1.1920929e-07\n",
      "Máximo valor:  3.4028235e+38\n",
      "Mínimo valor:  -3.4028235e+38\n"
     ]
    }
   ],
   "source": [
    "Info_Mach(np.float32)"
   ]
  },
  {
   "cell_type": "code",
   "execution_count": 25,
   "id": "b07dace2-1ce6-48b7-b800-e00c26e9723c",
   "metadata": {},
   "outputs": [
    {
     "name": "stdout",
     "output_type": "stream",
     "text": [
      "Nº de bits usados:  64\n",
      "Epsilon da máquina:  2.220446049250313e-16\n",
      "Máximo valor:  1.7976931348623157e+308\n",
      "Mínimo valor:  -1.7976931348623157e+308\n"
     ]
    }
   ],
   "source": [
    "Info_Mach(np.float64)"
   ]
  },
  {
   "cell_type": "code",
   "execution_count": 26,
   "id": "500734b9-2306-49d8-b763-6429aba1b915",
   "metadata": {},
   "outputs": [
    {
     "data": {
      "text/plain": [
       "inf"
      ]
     },
     "execution_count": 26,
     "metadata": {},
     "output_type": "execute_result"
    }
   ],
   "source": [
    "a = float('inf')\n",
    "a"
   ]
  },
  {
   "cell_type": "code",
   "execution_count": 27,
   "id": "cc8e96c5-82a9-4acb-b8e4-ba1024105f60",
   "metadata": {},
   "outputs": [
    {
     "data": {
      "text/plain": [
       "inf"
      ]
     },
     "execution_count": 27,
     "metadata": {},
     "output_type": "execute_result"
    }
   ],
   "source": [
    "a + 1"
   ]
  },
  {
   "cell_type": "code",
   "execution_count": 28,
   "id": "b7b76058-b84d-4913-8863-34586779d41c",
   "metadata": {},
   "outputs": [
    {
     "data": {
      "text/plain": [
       "inf"
      ]
     },
     "execution_count": 28,
     "metadata": {},
     "output_type": "execute_result"
    }
   ],
   "source": [
    "2 * a"
   ]
  },
  {
   "cell_type": "code",
   "execution_count": 29,
   "id": "94373266-cbc4-45f3-86e8-2711c1aa5ed4",
   "metadata": {},
   "outputs": [
    {
     "data": {
      "text/plain": [
       "-inf"
      ]
     },
     "execution_count": 29,
     "metadata": {},
     "output_type": "execute_result"
    }
   ],
   "source": [
    "-a"
   ]
  },
  {
   "cell_type": "code",
   "execution_count": 30,
   "id": "57089d0e-2073-4c29-9c1b-52f2444d6b4a",
   "metadata": {},
   "outputs": [
    {
     "data": {
      "text/plain": [
       "0.0"
      ]
     },
     "execution_count": 30,
     "metadata": {},
     "output_type": "execute_result"
    }
   ],
   "source": [
    "1/a"
   ]
  },
  {
   "cell_type": "code",
   "execution_count": 31,
   "id": "d52c52e4-f19e-4506-9878-561453e952b0",
   "metadata": {},
   "outputs": [
    {
     "data": {
      "text/plain": [
       "True"
      ]
     },
     "execution_count": 31,
     "metadata": {},
     "output_type": "execute_result"
    }
   ],
   "source": [
    "a == float('inf')"
   ]
  },
  {
   "cell_type": "code",
   "execution_count": 32,
   "id": "2497e7b5-100f-4d4c-a691-e2f69ced9570",
   "metadata": {},
   "outputs": [
    {
     "data": {
      "text/plain": [
       "nan"
      ]
     },
     "execution_count": 32,
     "metadata": {},
     "output_type": "execute_result"
    }
   ],
   "source": [
    "a/a"
   ]
  },
  {
   "cell_type": "code",
   "execution_count": 33,
   "id": "6fa9d874-aba4-4872-a802-660bfaac85cb",
   "metadata": {},
   "outputs": [
    {
     "data": {
      "text/plain": [
       "nan"
      ]
     },
     "execution_count": 33,
     "metadata": {},
     "output_type": "execute_result"
    }
   ],
   "source": [
    "a - a"
   ]
  },
  {
   "cell_type": "code",
   "execution_count": 34,
   "id": "9eb11729-5ee4-418a-987b-910993c048c9",
   "metadata": {},
   "outputs": [
    {
     "data": {
      "text/plain": [
       "nan"
      ]
     },
     "execution_count": 34,
     "metadata": {},
     "output_type": "execute_result"
    }
   ],
   "source": [
    "b = float('nan')\n",
    "b"
   ]
  },
  {
   "cell_type": "code",
   "execution_count": 35,
   "id": "5db9a7ad-2b12-4be4-a6cd-623bf583eedd",
   "metadata": {},
   "outputs": [
    {
     "data": {
      "text/plain": [
       "nan"
      ]
     },
     "execution_count": 35,
     "metadata": {},
     "output_type": "execute_result"
    }
   ],
   "source": [
    "b + 1"
   ]
  },
  {
   "cell_type": "code",
   "execution_count": 36,
   "id": "160fdaf1-3b01-4866-98a3-67ff97a90e4b",
   "metadata": {},
   "outputs": [
    {
     "data": {
      "text/plain": [
       "nan"
      ]
     },
     "execution_count": 36,
     "metadata": {},
     "output_type": "execute_result"
    }
   ],
   "source": [
    "b - b"
   ]
  },
  {
   "cell_type": "code",
   "execution_count": 37,
   "id": "834276ec-b6b3-4615-8f6a-b058313fa7f4",
   "metadata": {},
   "outputs": [
    {
     "data": {
      "text/plain": [
       "nan"
      ]
     },
     "execution_count": 37,
     "metadata": {},
     "output_type": "execute_result"
    }
   ],
   "source": [
    "4 * b"
   ]
  },
  {
   "cell_type": "code",
   "execution_count": 38,
   "id": "ecce3ed1-7e32-4b85-8080-89d3a115095b",
   "metadata": {},
   "outputs": [
    {
     "data": {
      "text/plain": [
       "nan"
      ]
     },
     "execution_count": 38,
     "metadata": {},
     "output_type": "execute_result"
    }
   ],
   "source": [
    "b / b"
   ]
  },
  {
   "cell_type": "code",
   "execution_count": 39,
   "id": "b02950be-706d-4f87-ba08-ab787c4a4e2a",
   "metadata": {},
   "outputs": [
    {
     "data": {
      "text/plain": [
       "False"
      ]
     },
     "execution_count": 39,
     "metadata": {},
     "output_type": "execute_result"
    }
   ],
   "source": [
    "b == b"
   ]
  },
  {
   "cell_type": "code",
   "execution_count": 40,
   "id": "6a2e7475-5e81-4a65-a7a2-2d44539c780f",
   "metadata": {},
   "outputs": [
    {
     "data": {
      "text/plain": [
       "False"
      ]
     },
     "execution_count": 40,
     "metadata": {},
     "output_type": "execute_result"
    }
   ],
   "source": [
    "b == float('nan')"
   ]
  },
  {
   "cell_type": "code",
   "execution_count": 41,
   "id": "d770efaa-6e9b-4e2f-b7f2-bdf98a9813cd",
   "metadata": {},
   "outputs": [
    {
     "data": {
      "text/plain": [
       "True"
      ]
     },
     "execution_count": 41,
     "metadata": {},
     "output_type": "execute_result"
    }
   ],
   "source": [
    "b != b"
   ]
  },
  {
   "cell_type": "code",
   "execution_count": 42,
   "id": "a496ba43-6250-40fa-affe-a48080e0e8ea",
   "metadata": {},
   "outputs": [
    {
     "data": {
      "text/plain": [
       "True"
      ]
     },
     "execution_count": 42,
     "metadata": {},
     "output_type": "execute_result"
    }
   ],
   "source": [
    "np.isnan(b)"
   ]
  },
  {
   "cell_type": "markdown",
   "id": "a27fc848-2ca7-4a2c-8fb3-2e09da250d2d",
   "metadata": {},
   "source": [
    "<div style=\"font-size:16px; color:#0099ff; border-bottom: 1.98px solid #0099ff\">\n",
    "    <strong>Exercícios <span style=\"margin-left: 35%;\">--- Respostas --- </span></strong>\n",
    "</div>"
   ]
  },
  {
   "cell_type": "markdown",
   "id": "192fa4d0-a1a3-4eb5-a783-bc6e5d958c3c",
   "metadata": {},
   "source": [
    " \u0004 Exercício 1.1"
   ]
  },
  {
   "cell_type": "code",
   "execution_count": 43,
   "id": "c18dc085-d452-4128-9e70-8acc68ca450e",
   "metadata": {},
   "outputs": [],
   "source": [
    "import math\n",
    "import matplotlib.pyplot as plt"
   ]
  },
  {
   "cell_type": "code",
   "execution_count": 44,
   "id": "15cf4fa9-94c8-4f6c-9e55-c0bf6f6a6d92",
   "metadata": {},
   "outputs": [
    {
     "name": "stdout",
     "output_type": "stream",
     "text": [
      "| X | X_ | Erro absoluto | Erro Relativo | %\n",
      "|x: 3.00  | 3 | 0.00| 0.00 | 0.00%  \n",
      "|x: 2.25  | 2 | 0.25| 0.11 | 11.11%  \n",
      "|x: 2.33  | 2 | 0.33| 0.14 | 14.29%  \n",
      "|x: 2.62  | 2 | 0.62| 0.24 | 23.81%  \n",
      "|x: 3.00  | 3 | 0.00| 0.00 | 0.00%  \n",
      "|x: 3.42  | 3 | 0.42| 0.12 | 12.20%  \n",
      "|x: 3.86  | 3 | 0.86| 0.22 | 22.22%  \n",
      "|x: 4.31  | 4 | 0.31| 0.07 | 7.25%  \n",
      "|x: 4.78  | 4 | 0.78| 0.16 | 16.28%  \n",
      "|x: 5.25  | 5 | 0.25| 0.05 | 4.76%  \n"
     ]
    }
   ],
   "source": [
    "a = 5 \n",
    "data=[]\n",
    "for i in range(10):\n",
    "    x  = i+1\n",
    "    x  = (x + a/x ) / 2 \n",
    "    x_ = math.floor(x) #aqui definimos a aproximação pro proximo inteiro\n",
    "    absoluto = math.fabs(x - x_)\n",
    "    rel = absoluto /math.fabs(x)\n",
    "    if(i==0):\n",
    "        print(\"| X | X_ | Erro absoluto | Erro Relativo | %\")\n",
    "    print(\"|x: {:.2f}  | {} | {:.2f}| {:.2f} | {:.2f}%  \".format(x, x_, absoluto, rel, rel*100))"
   ]
  },
  {
   "cell_type": "markdown",
   "id": "12ddfa6b-e9a4-425e-8620-2d49cbfa8518",
   "metadata": {},
   "source": [
    " \u0004 Exercício 1.2"
   ]
  },
  {
   "cell_type": "code",
   "execution_count": 45,
   "id": "1f5a763e-59de-4fdf-95ea-593b60a39778",
   "metadata": {},
   "outputs": [],
   "source": [
    "def epsilon():\n",
    "    e = 1\n",
    "    while True:\n",
    "        if(1 + e <= 1):\n",
    "            e = 2*e\n",
    "            return e\n",
    "        else:\n",
    "            e = e/2"
   ]
  },
  {
   "cell_type": "code",
   "execution_count": 46,
   "id": "cd20ca71-d0af-4f30-b9dc-014a1c0163a7",
   "metadata": {},
   "outputs": [
    {
     "name": "stdout",
     "output_type": "stream",
     "text": [
      "2.220446049250313e-16\n"
     ]
    },
    {
     "data": {
      "text/plain": [
       "2.220446049250313e-16"
      ]
     },
     "execution_count": 46,
     "metadata": {},
     "output_type": "execute_result"
    }
   ],
   "source": [
    "print(epsilon())\n",
    "np.finfo(float).eps"
   ]
  },
  {
   "cell_type": "markdown",
   "id": "a598dcb0-a436-487c-af2c-e34ca3097640",
   "metadata": {},
   "source": [
    " \u0004 Exercício 1.3"
   ]
  },
  {
   "cell_type": "code",
   "execution_count": 120,
   "id": "6cdb9329-3ec3-4ca6-a28d-61aad92a12b6",
   "metadata": {},
   "outputs": [
    {
     "name": "stdout",
     "output_type": "stream",
     "text": [
      "[0.3333333333333333, 0.33333333333333326, 0.33333333333333326, 0.33333333333333326, 0.33333333333333326, 0.33333333333333326, 0.33333333333333326, 0.33333333333333326, 0.33333333333333326, 0.33333333333333326, 0.33333333333333326]\n"
     ]
    }
   ],
   "source": [
    "x = [1/3]\n",
    "\n",
    "for i in range(10):\n",
    "    x.append(4*x[0] - 1)\n",
    "print(x)"
   ]
  },
  {
   "cell_type": "markdown",
   "id": "d1ea4ebb-843a-4db7-a7e3-860f47b6bccf",
   "metadata": {},
   "source": [
    "Ela diverge, pois qualquer serie infinita diferente de 0 diverge;"
   ]
  },
  {
   "cell_type": "markdown",
   "id": "e2483080-def1-435f-b720-1d8c69f787ef",
   "metadata": {},
   "source": [
    " \u0004 Exercício 1.4"
   ]
  },
  {
   "cell_type": "code",
   "execution_count": 107,
   "id": "ca8e570b-63b9-4a72-b5af-6153e63925eb",
   "metadata": {},
   "outputs": [],
   "source": [
    "def fun1(u):\n",
    "    try:\n",
    "        res = (math.exp(1/u)) / (1 + math.exp(1/u))\n",
    "    except OverflowError:\n",
    "        res = float('inf')\n",
    "    print(\"{} \\t: {}\".format(u, res))\n",
    "    \n",
    "def fun2(u):\n",
    "    print(u,\" \\t:\", (1 / (math.exp(-1/u) + 1)))"
   ]
  },
  {
   "cell_type": "code",
   "execution_count": 119,
   "id": "0b922487-d36e-41f7-a2f5-e6a56c609a31",
   "metadata": {},
   "outputs": [
    {
     "name": "stdout",
     "output_type": "stream",
     "text": [
      "0.1 \t: 0.9999546021312976\n",
      "0.01 \t: 1.0\n",
      "0.001 \t: inf\n",
      "-=-=-=-=-=-=-=-=-=-=-=-=-=-=-=\n",
      "0.1  \t: 0.9999546021312976\n",
      "0.01  \t: 1.0\n",
      "0.001  \t: 1.0\n",
      "0.0001  \t: 1.0\n",
      "1e-05  \t: 1.0\n",
      "1e-06  \t: 1.0\n",
      "1e-07  \t: 1.0\n",
      "1e-08  \t: 1.0\n",
      "1e-09  \t: 1.0\n",
      "1e-10  \t: 1.0\n"
     ]
    }
   ],
   "source": [
    "fun1(0.1)\n",
    "fun1(0.01)\n",
    "fun1(0.001)\n",
    "\n",
    "print(15*\"-=\")\n",
    "\n",
    "fun2(0.1)\n",
    "fun2(0.01)\n",
    "fun2(0.001)\n",
    "fun2(0.0001)\n",
    "fun2(0.00001)\n",
    "fun2(0.000001)\n",
    "fun2(0.0000001)\n",
    "fun2(0.00000001)\n",
    "fun2(0.000000001)\n",
    "fun2(0.0000000001)"
   ]
  },
  {
   "cell_type": "markdown",
   "id": "bbb1e479-6a01-432a-bf67-028b3e837c8d",
   "metadata": {},
   "source": [
    "A segunda expressão $$  \\frac{1}{exp(−1/µ) + 1}  $$\n",
    "pois ele consegue tratar numeros menores sem dar um overflow.\n",
    "<br>enquanto na primeira expressão podemos observar que com apenas 3 casas após a virgula ele não conseguiu mais tratar e houve um estouro;"
   ]
  },
  {
   "cell_type": "markdown",
   "id": "8415d16d-5e43-479d-b691-1e84f95056a3",
   "metadata": {},
   "source": [
    " \u0004 Exercício 1.5"
   ]
  },
  {
   "cell_type": "code",
   "execution_count": 160,
   "id": "7c825ce9-c197-45bd-885b-c0004d86cb81",
   "metadata": {},
   "outputs": [],
   "source": [
    "def f(x):\n",
    "     return ((1 + x) - 1) / x"
   ]
  },
  {
   "cell_type": "code",
   "execution_count": 163,
   "id": "caa46237-beca-4deb-ba35-32a0bf82c8b3",
   "metadata": {},
   "outputs": [
    {
     "name": "stdout",
     "output_type": "stream",
     "text": [
      "1.000000082740371\n",
      "0.9992007221626409\n",
      "0.0\n"
     ]
    }
   ],
   "source": [
    "print(f(10e-12))\n",
    "print(f(10e-15))\n",
    "print(f(10e-17))"
   ]
  },
  {
   "cell_type": "markdown",
   "id": "8565447a-d972-491b-9c39-2db5e450e16e",
   "metadata": {},
   "source": [
    "Isso aconte pois o numero está muito proximo de 0 e por conta disso está havendo um cancelamento catastrofico."
   ]
  }
 ],
 "metadata": {
  "kernelspec": {
   "display_name": "Python 3",
   "language": "python",
   "name": "python3"
  },
  "language_info": {
   "codemirror_mode": {
    "name": "ipython",
    "version": 3
   },
   "file_extension": ".py",
   "mimetype": "text/x-python",
   "name": "python",
   "nbconvert_exporter": "python",
   "pygments_lexer": "ipython3",
   "version": "3.8.8"
  }
 },
 "nbformat": 4,
 "nbformat_minor": 5
}
