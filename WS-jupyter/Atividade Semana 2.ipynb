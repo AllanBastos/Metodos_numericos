{
 "cells": [
  {
   "cell_type": "markdown",
   "id": "3760b135",
   "metadata": {},
   "source": [
    "<div class=\"alert alert-block alert-success\" >\n",
    "    <h1>\n",
    "        <center>Lista de Exercícios 1 - Semana 2\n",
    "        <br> \n",
    "        <span style=\" font-size:18px;\">Allan Bastos</span> \n",
    "        </center>\n",
    "    </h1>\n",
    "</div>"
   ]
  },
  {
   "cell_type": "markdown",
   "id": "ee7038ec",
   "metadata": {},
   "source": [
    "<div class=\"alert alert-block alert-info\" >\n",
    "<h3>\n",
    "    1. Como importar a biblioteca numpy e verificar a versão utilizada?\n",
    "</h3>\n",
    "</div>"
   ]
  },
  {
   "cell_type": "markdown",
   "id": "6cdfea13",
   "metadata": {},
   "source": [
    "você pode importar a biblioteca de alumas formas:\n",
    "* <code> from numpy import * </code> \n",
    "dessa mandeira você está importando todas as declarações de nomes que existem dentro da biblioteca do numpy, não é recomendado pois introduz um conjunto desconhecido de nomes em seu ambiente podendo causar algum erro eventualmente.\n",
    "    <br>\n",
    "    \n",
    "* <code> import numpy </code> Essa é uma outras forma que você declara qual a biblioteca que você quer importar e para todas as funções que existe dentro dela bastaria chamar a bibliote e a função que deseja como por exemplo <code>numpy.array()</code>\n",
    "\n",
    "    <br>\n",
    "\n",
    "* <code> import numpy as np </code> dessa forma é a que mais recomendo, pois você está atribuindo um apelido a sua biblioteca, assim evitando de estar ecrevendo o nome dela por extenso; exemplo <code>np.array()</code>"
   ]
  },
  {
   "cell_type": "markdown",
   "id": "e7082cc5",
   "metadata": {},
   "source": [
    "Impotando a biblioteca e dando um apelido de np"
   ]
  },
  {
   "cell_type": "code",
   "execution_count": 3,
   "id": "5e6d2169",
   "metadata": {},
   "outputs": [],
   "source": [
    "import numpy as np "
   ]
  },
  {
   "cell_type": "markdown",
   "id": "bad8ebd0",
   "metadata": {},
   "source": [
    "Assim você pode verificar a versão do seu numpy"
   ]
  },
  {
   "cell_type": "code",
   "execution_count": 2,
   "id": "32ca8d4c",
   "metadata": {},
   "outputs": [
    {
     "data": {
      "text/plain": [
       "'1.20.1'"
      ]
     },
     "execution_count": 2,
     "metadata": {},
     "output_type": "execute_result"
    }
   ],
   "source": [
    "np.version.version"
   ]
  },
  {
   "cell_type": "code",
   "execution_count": 3,
   "id": "803c47b6",
   "metadata": {},
   "outputs": [
    {
     "data": {
      "text/plain": [
       "'1.20.1'"
      ]
     },
     "execution_count": 3,
     "metadata": {},
     "output_type": "execute_result"
    }
   ],
   "source": [
    "np.__version__"
   ]
  },
  {
   "cell_type": "markdown",
   "id": "9b3950ee",
   "metadata": {},
   "source": [
    "<div class=\"alert alert-block alert-info\" >\n",
    "<h3>\n",
    "    2. Explique, com suas palavras, os conceitos de vetorização e broadcasting que Numpy implementa.\n",
    "</h3>\n",
    "</div>\n"
   ]
  },
  {
   "cell_type": "markdown",
   "id": "ba68530e",
   "metadata": {},
   "source": [
    "O numpy aceita algumas operações com seus vetores, desde que não seja de shapes incopatíveis, como por exemplo, se somar dois vetores com o shape (3,3) teremos um resuldado um vetor também de shape (3,3) aplicando a operação elemento a elemento, agora se tentarmos fazer com o shape diferentes acontece o broadcasting desde que os arrays seja compativeis e siga a algumas regras são elas: dimenções dos vetores são iguais ou pelo menos uma delas é 1; como por exemplo vetorA = (4,4) e vetorB(1,4) o resultado será estendido, até ficar com o shape(4,4) o resultado sera repicado e terá 4 linhas identicas;"
   ]
  },
  {
   "cell_type": "markdown",
   "id": "ff34259e",
   "metadata": {},
   "source": [
    "<div class=\"alert alert-block alert-info\" >\n",
    "<h3>\n",
    "    3. Liste as diferenças entre uma lista, um dicionário, um array numpy, dando exemplos de aplicação de em que cada tipo seria mais interessante.\n",
    "</h3>\n",
    "</div> "
   ]
  },
  {
   "cell_type": "markdown",
   "id": "3666c1c3",
   "metadata": {},
   "source": [
    "* Lista\n",
    "<p>A lista ela aceita elemento de qualquer tipo e ela é boa para guardar elementos de que não se sabe o tipo ao certo ou elementos de tipos variaveis;"
   ]
  },
  {
   "cell_type": "code",
   "execution_count": 4,
   "id": "52dbcadc",
   "metadata": {},
   "outputs": [
    {
     "data": {
      "text/plain": [
       "[1, '2', 3, 'Ana', 'A', 123]"
      ]
     },
     "execution_count": 4,
     "metadata": {},
     "output_type": "execute_result"
    }
   ],
   "source": [
    "Lista = [1, \"2\", 3, \"Ana\", 'A', 123]\n",
    "Lista"
   ]
  },
  {
   "cell_type": "code",
   "execution_count": 5,
   "id": "ad863e21",
   "metadata": {},
   "outputs": [
    {
     "data": {
      "text/plain": [
       "3"
      ]
     },
     "execution_count": 5,
     "metadata": {},
     "output_type": "execute_result"
    }
   ],
   "source": [
    "Lista[2]"
   ]
  },
  {
   "cell_type": "markdown",
   "id": "97055cac",
   "metadata": {},
   "source": [
    "* Dicionario\n",
    "<p> O dicionario ele guarda valores contendo uma chave, diferente das listas e dos arrays que a busca por ele não é indexavel em ordem numerica crescente e sim por chaves, a variavel é associada á uma chave definida na sua ciração ou inscerção, e como a lista ele aceita elementos de qualquer tipo;"
   ]
  },
  {
   "cell_type": "code",
   "execution_count": 6,
   "id": "d4aad90f",
   "metadata": {},
   "outputs": [
    {
     "data": {
      "text/plain": [
       "'joão'"
      ]
     },
     "execution_count": 6,
     "metadata": {},
     "output_type": "execute_result"
    }
   ],
   "source": [
    "dicionario = { 1 : \"arroz\", 'B': 2019, \"nome\": \"joão\"}\n",
    "dicionario['nome']"
   ]
  },
  {
   "cell_type": "markdown",
   "id": "9794db87",
   "metadata": {},
   "source": [
    "* Array numpy\n",
    "<p> já o array numpy ele apesar de aceitar qualquer tipo, sua saida, prevalecerar o tipo de maior precedencia, e a vantagem dele para a lista, é a possibilidade de fazer operações de forma mais facil e rapida;\n"
   ]
  },
  {
   "cell_type": "code",
   "execution_count": 7,
   "id": "9b14e2b3",
   "metadata": {},
   "outputs": [
    {
     "data": {
      "text/plain": [
       "array(['1', '2', '3', '4.0'], dtype='<U32')"
      ]
     },
     "execution_count": 7,
     "metadata": {},
     "output_type": "execute_result"
    }
   ],
   "source": [
    "arr = np.array([1, 2, '3', 4.0])\n",
    "arr"
   ]
  },
  {
   "cell_type": "code",
   "execution_count": 8,
   "id": "9e7bf0e4",
   "metadata": {},
   "outputs": [
    {
     "data": {
      "text/plain": [
       "array([2., 4., 6., 8.])"
      ]
     },
     "execution_count": 8,
     "metadata": {},
     "output_type": "execute_result"
    }
   ],
   "source": [
    "arr = np.array([1, 2, 3, 4.0])\n",
    "arr*2"
   ]
  },
  {
   "cell_type": "code",
   "execution_count": 9,
   "id": "bef77b1e",
   "metadata": {},
   "outputs": [
    {
     "data": {
      "text/plain": [
       "array([10., 20., 30., 40.])"
      ]
     },
     "execution_count": 9,
     "metadata": {},
     "output_type": "execute_result"
    }
   ],
   "source": [
    "arr*10"
   ]
  },
  {
   "cell_type": "markdown",
   "id": "f3914820",
   "metadata": {},
   "source": [
    "<div class=\"alert alert-block alert-info\" >\n",
    "   \n",
    "<h3> 4. Forme a matriz </h3> \n",
    "[[1, 6, 11],<br/>[2, 7, 12],<br/>[3, 8, 13],<br/>[4, 9, 14],<br/>[5, 10, 15]]\n",
    "<br>\n",
    "    usando lista e <i>array</i> Numpy\n",
    "</div> \n"
   ]
  },
  {
   "cell_type": "code",
   "execution_count": 22,
   "id": "529884ce",
   "metadata": {},
   "outputs": [
    {
     "name": "stdout",
     "output_type": "stream",
     "text": [
      "[1, 6, 11]\n",
      "[2, 7, 12]\n",
      "[3, 8, 13]\n",
      "[4, 9, 14]\n",
      "[5, 10, 15]\n"
     ]
    }
   ],
   "source": [
    "lista = []\n",
    "for i in range(5):\n",
    "    lista.append([])\n",
    "    for l in range(1,16,5):\n",
    "        lista[i].append(i + l)\n",
    "for i in range(len(lista)):\n",
    "    print(lista[i])"
   ]
  },
  {
   "cell_type": "code",
   "execution_count": 27,
   "id": "6219f7b8",
   "metadata": {},
   "outputs": [
    {
     "data": {
      "text/plain": [
       "array([[ 1,  6, 11],\n",
       "       [ 2,  7, 12],\n",
       "       [ 3,  8, 13],\n",
       "       [ 4,  9, 14],\n",
       "       [ 5, 10, 15]])"
      ]
     },
     "execution_count": 27,
     "metadata": {},
     "output_type": "execute_result"
    }
   ],
   "source": [
    "array = [np.arange(i+1 , i+12, 5) for i in range(5)]\n",
    "array = np.array(array)\n",
    "array"
   ]
  },
  {
   "cell_type": "markdown",
   "id": "ed2f686a",
   "metadata": {},
   "source": [
    "<div class=\"alert alert-block alert-info\" >\n",
    "<h3>\n",
    "    5. Usando numpy, crie:\n",
    "</h3>\n",
    "</div>\n"
   ]
  },
  {
   "cell_type": "markdown",
   "id": "ced3c0b9",
   "metadata": {},
   "source": [
    "###### (a) um vetor de 10 elementos entre 1 e 20"
   ]
  },
  {
   "cell_type": "code",
   "execution_count": 12,
   "id": "f9783e25",
   "metadata": {},
   "outputs": [
    {
     "data": {
      "text/plain": [
       "array([ 1.        ,  3.11111111,  5.22222222,  7.33333333,  9.44444444,\n",
       "       11.55555556, 13.66666667, 15.77777778, 17.88888889, 20.        ])"
      ]
     },
     "execution_count": 12,
     "metadata": {},
     "output_type": "execute_result"
    }
   ],
   "source": [
    "np.linspace(1,20,10)"
   ]
  },
  {
   "cell_type": "markdown",
   "id": "d02d0c88",
   "metadata": {},
   "source": [
    "###### (b) um vetor entre 1 e 20, com passo de 2"
   ]
  },
  {
   "cell_type": "code",
   "execution_count": 13,
   "id": "d4c12f74",
   "metadata": {},
   "outputs": [
    {
     "data": {
      "text/plain": [
       "array([ 1,  3,  5,  7,  9, 11, 13, 15, 17, 19])"
      ]
     },
     "execution_count": 13,
     "metadata": {},
     "output_type": "execute_result"
    }
   ],
   "source": [
    "np.arange(1,20,2)"
   ]
  },
  {
   "cell_type": "markdown",
   "id": "f70874c5",
   "metadata": {},
   "source": [
    "##### (c) uma matriz 3x3 cujos elementos da diagonal sejam o vetor [1,2,3] e os demais sejam todos 0"
   ]
  },
  {
   "cell_type": "code",
   "execution_count": 14,
   "id": "f5bcbd55",
   "metadata": {},
   "outputs": [
    {
     "data": {
      "text/plain": [
       "array([[1, 0, 0],\n",
       "       [0, 2, 0],\n",
       "       [0, 0, 3]])"
      ]
     },
     "execution_count": 14,
     "metadata": {},
     "output_type": "execute_result"
    }
   ],
   "source": [
    "lista = [[1,0,0],[0,2,0],[0,0,3]]\n",
    "np.array(lista)"
   ]
  },
  {
   "cell_type": "code",
   "execution_count": 15,
   "id": "7c02b790",
   "metadata": {},
   "outputs": [
    {
     "data": {
      "text/plain": [
       "array([[1, 0, 0],\n",
       "       [0, 2, 0],\n",
       "       [0, 0, 3]])"
      ]
     },
     "execution_count": 15,
     "metadata": {},
     "output_type": "execute_result"
    }
   ],
   "source": [
    "np.diag([1,2,3])"
   ]
  },
  {
   "cell_type": "markdown",
   "id": "8a5a2d41",
   "metadata": {},
   "source": [
    "<div class=\"alert alert-block alert-info\" >\n",
    "<h3>6. Considere a lista [-2, 4., ’7’, 9] e crie um array Numpy a partir dessa lista. Houve uma mudança no tipo de vários elementos. Explique com suas palavras porque isso aconteceu. Se o elemento ’7’ for escrito como inteiro, o que muda na saída e por que?\n",
    "\n",
    "</h3>\n",
    "</div> "
   ]
  },
  {
   "cell_type": "code",
   "execution_count": 16,
   "id": "1ea2e959",
   "metadata": {},
   "outputs": [
    {
     "data": {
      "text/plain": [
       "array(['-2', '4.0', '7', '9'], dtype='<U32')"
      ]
     },
     "execution_count": 16,
     "metadata": {},
     "output_type": "execute_result"
    }
   ],
   "source": [
    "np.array([-2, 4., '7', 9])"
   ]
  },
  {
   "cell_type": "markdown",
   "id": "fd5044b5",
   "metadata": {},
   "source": [
    "Houve um upcast pois são de tipos diferentes, e no numpy existe uma precedencia de tipos que eles tem que seguir."
   ]
  },
  {
   "cell_type": "code",
   "execution_count": 17,
   "id": "77dcceb9",
   "metadata": {},
   "outputs": [
    {
     "data": {
      "text/plain": [
       "array([-2.,  4.,  7.,  9.])"
      ]
     },
     "execution_count": 17,
     "metadata": {},
     "output_type": "execute_result"
    }
   ],
   "source": [
    "np.array([-2, 4., 7, 9])"
   ]
  },
  {
   "cell_type": "markdown",
   "id": "4e4a9091",
   "metadata": {},
   "source": [
    "Todas os elementos ficam em ponto flutuante pois o float é maior em precedencia do que o inteiro  a precedencia seria \n",
    "string > complex > float > int "
   ]
  },
  {
   "cell_type": "markdown",
   "id": "4df428d6",
   "metadata": {},
   "source": [
    "<div class=\"alert alert-block alert-info\" >\n",
    "<h3>\n",
    "    7. Crie um vetor A com valores variando de 10 à 49, um vetor B variando de 1 à 39 e um vetor C de 10 à 20. Então realize e comente a saída das seguintes operações:\n",
    "</h3>\n",
    "</div> \n"
   ]
  },
  {
   "cell_type": "code",
   "execution_count": 62,
   "id": "54f24693",
   "metadata": {},
   "outputs": [],
   "source": [
    "A = np.arange(10,49)\n",
    "B = np.arange(1,39)\n",
    "C = np.arange(10,20)\n"
   ]
  },
  {
   "cell_type": "code",
   "execution_count": 63,
   "id": "034d504d",
   "metadata": {},
   "outputs": [
    {
     "name": "stdout",
     "output_type": "stream",
     "text": [
      " A:  [10 11 12 13 14 15 16 17 18 19 20 21 22 23 24 25 26 27 28 29 30 31 32 33\n",
      " 34 35 36 37 38 39 40 41 42 43 44 45 46 47 48] \n",
      "\n",
      " B:  [ 1  2  3  4  5  6  7  8  9 10 11 12 13 14 15 16 17 18 19 20 21 22 23 24\n",
      " 25 26 27 28 29 30 31 32 33 34 35 36 37 38] \n",
      "\n",
      " C:  [10 11 12 13 14 15 16 17 18 19]\n"
     ]
    }
   ],
   "source": [
    "print (' A: ', A, '\\n\\n', 'B: ', B, '\\n\\n', 'C: ', C)"
   ]
  },
  {
   "cell_type": "code",
   "execution_count": 64,
   "id": "1bdd0990",
   "metadata": {},
   "outputs": [],
   "source": [
    "#print('A+B = ', A+B ,'\\n\\n', 'A*B=', A*B,'\\n\\n', 'A+B=', A+C,'\\n\\n', 'A*B=', A*C,'\\n\\n', 'B*C=', B*C)"
   ]
  },
  {
   "cell_type": "markdown",
   "id": "8689d00a",
   "metadata": {},
   "source": [
    "<code>---------------------------------------------------------------------------\n",
    "ValueError                                Traceback (most recent call last)\n",
    "<ipython-input-20-dc826e9db3fd> in <module>\n",
    "----> 1 print('A+B = ', A+B ,'\\n\\n', 'A*B=', A*B,'\\n\\n', 'A+B=', A+C,'\\n\\n', 'A*B=', A*C,'\\n\\n', 'B*C=', B*C)\n",
    "\n",
    "ValueError: operands could not be broadcast together with shapes (39,) (38,) </code>"
   ]
  },
  {
   "cell_type": "code",
   "execution_count": 65,
   "id": "0db6611b",
   "metadata": {},
   "outputs": [
    {
     "ename": "ValueError",
     "evalue": "operands could not be broadcast together with shapes (39,) (38,) ",
     "output_type": "error",
     "traceback": [
      "\u001b[1;31m---------------------------------------------------------------------------\u001b[0m",
      "\u001b[1;31mValueError\u001b[0m                                Traceback (most recent call last)",
      "\u001b[1;32m<ipython-input-65-47896efed660>\u001b[0m in \u001b[0;36m<module>\u001b[1;34m\u001b[0m\n\u001b[1;32m----> 1\u001b[1;33m \u001b[0mA\u001b[0m\u001b[1;33m*\u001b[0m\u001b[0mB\u001b[0m\u001b[1;33m\u001b[0m\u001b[1;33m\u001b[0m\u001b[0m\n\u001b[0m",
      "\u001b[1;31mValueError\u001b[0m: operands could not be broadcast together with shapes (39,) (38,) "
     ]
    }
   ],
   "source": [
    "A*B"
   ]
  },
  {
   "cell_type": "code",
   "execution_count": 66,
   "id": "5e590dd6",
   "metadata": {},
   "outputs": [
    {
     "ename": "ValueError",
     "evalue": "operands could not be broadcast together with shapes (39,) (10,) ",
     "output_type": "error",
     "traceback": [
      "\u001b[1;31m---------------------------------------------------------------------------\u001b[0m",
      "\u001b[1;31mValueError\u001b[0m                                Traceback (most recent call last)",
      "\u001b[1;32m<ipython-input-66-e9ee25e268b8>\u001b[0m in \u001b[0;36m<module>\u001b[1;34m\u001b[0m\n\u001b[1;32m----> 1\u001b[1;33m \u001b[0mA\u001b[0m\u001b[1;33m+\u001b[0m\u001b[0mC\u001b[0m\u001b[1;33m\u001b[0m\u001b[1;33m\u001b[0m\u001b[0m\n\u001b[0m",
      "\u001b[1;31mValueError\u001b[0m: operands could not be broadcast together with shapes (39,) (10,) "
     ]
    }
   ],
   "source": [
    "A+C"
   ]
  },
  {
   "cell_type": "code",
   "execution_count": 67,
   "id": "e618f8a2",
   "metadata": {},
   "outputs": [
    {
     "ename": "ValueError",
     "evalue": "operands could not be broadcast together with shapes (39,) (10,) ",
     "output_type": "error",
     "traceback": [
      "\u001b[1;31m---------------------------------------------------------------------------\u001b[0m",
      "\u001b[1;31mValueError\u001b[0m                                Traceback (most recent call last)",
      "\u001b[1;32m<ipython-input-67-eba47f95191a>\u001b[0m in \u001b[0;36m<module>\u001b[1;34m\u001b[0m\n\u001b[1;32m----> 1\u001b[1;33m \u001b[0mA\u001b[0m\u001b[1;33m*\u001b[0m\u001b[0mC\u001b[0m\u001b[1;33m\u001b[0m\u001b[1;33m\u001b[0m\u001b[0m\n\u001b[0m",
      "\u001b[1;31mValueError\u001b[0m: operands could not be broadcast together with shapes (39,) (10,) "
     ]
    }
   ],
   "source": [
    "A*C"
   ]
  },
  {
   "cell_type": "code",
   "execution_count": 68,
   "id": "b7fbbd32",
   "metadata": {},
   "outputs": [
    {
     "ename": "ValueError",
     "evalue": "operands could not be broadcast together with shapes (38,) (10,) ",
     "output_type": "error",
     "traceback": [
      "\u001b[1;31m---------------------------------------------------------------------------\u001b[0m",
      "\u001b[1;31mValueError\u001b[0m                                Traceback (most recent call last)",
      "\u001b[1;32m<ipython-input-68-03507f8da0a7>\u001b[0m in \u001b[0;36m<module>\u001b[1;34m\u001b[0m\n\u001b[1;32m----> 1\u001b[1;33m \u001b[0mB\u001b[0m\u001b[1;33m*\u001b[0m\u001b[0mC\u001b[0m\u001b[1;33m\u001b[0m\u001b[1;33m\u001b[0m\u001b[0m\n\u001b[0m",
      "\u001b[1;31mValueError\u001b[0m: operands could not be broadcast together with shapes (38,) (10,) "
     ]
    }
   ],
   "source": [
    "B*C"
   ]
  },
  {
   "cell_type": "markdown",
   "id": "5363a524",
   "metadata": {},
   "source": [
    "Nesses Exemplos acima nenhuma operação deu certo pois o 'shape' a forma dos vetores são de tamanhos diferentes, daria certo se fosse com tamanhos iguais por exemplo"
   ]
  },
  {
   "cell_type": "code",
   "execution_count": 59,
   "id": "7dfcfdd4",
   "metadata": {},
   "outputs": [],
   "source": [
    "A = np.linspace(10,49)\n",
    "B = np.linspace(1,39)\n",
    "C = np.linspace(10,20)"
   ]
  },
  {
   "cell_type": "code",
   "execution_count": 60,
   "id": "96167708",
   "metadata": {},
   "outputs": [
    {
     "name": "stdout",
     "output_type": "stream",
     "text": [
      "A+B =  [11.         12.57142857 14.14285714 15.71428571 17.28571429 18.85714286\n",
      " 20.42857143 22.         23.57142857 25.14285714 26.71428571 28.28571429\n",
      " 29.85714286 31.42857143 33.         34.57142857 36.14285714 37.71428571\n",
      " 39.28571429 40.85714286 42.42857143 44.         45.57142857 47.14285714\n",
      " 48.71428571 50.28571429 51.85714286 53.42857143 55.         56.57142857\n",
      " 58.14285714 59.71428571 61.28571429 62.85714286 64.42857143 66.\n",
      " 67.57142857 69.14285714 70.71428571 72.28571429 73.85714286 75.42857143\n",
      " 77.         78.57142857 80.14285714 81.71428571 83.28571429 84.85714286\n",
      " 86.42857143 88.        ] \n",
      "\n",
      " A*B= [  10.           19.16826322   29.57101208   41.20824656   54.07996668\n",
      "   68.18617243   83.52686381  100.10204082  117.91170346  136.95585173\n",
      "  157.23448563  178.74760516  201.49521033  225.47730112  250.69387755\n",
      "  277.14493961  304.8304873   333.75052062  363.90503957  395.29404415\n",
      "  427.91753436  461.7755102   496.86797168  533.19491878  570.75635152\n",
      "  609.55226989  649.58267389  690.84756352  733.34693878  777.08079967\n",
      "  822.04914619  868.25197834  915.68929613  964.36109954 1014.26738859\n",
      " 1065.40816327 1117.78342357 1171.39316951 1226.23740108 1282.31611828\n",
      " 1339.62932112 1398.17700958 1457.95918367 1518.9758434  1581.22698875\n",
      " 1644.71261974 1709.43273636 1775.38733861 1842.57642649 1911.        ] \n",
      "\n",
      " A+B= [20. 21. 22. 23. 24. 25. 26. 27. 28. 29. 30. 31. 32. 33. 34. 35. 36. 37.\n",
      " 38. 39. 40. 41. 42. 43. 44. 45. 46. 47. 48. 49. 50. 51. 52. 53. 54. 55.\n",
      " 56. 57. 58. 59. 60. 61. 62. 63. 64. 65. 66. 67. 68. 69.] \n",
      "\n",
      " A*B= [100.         110.16243232 120.64972928 131.46189088 142.59891712\n",
      " 154.060808   165.84756352 177.95918367 190.39566847 203.15701791\n",
      " 216.24323199 229.6543107  243.39025406 257.45106206 271.83673469\n",
      " 286.54727197 301.58267389 316.94294044 332.62807164 348.63806747\n",
      " 364.97292795 381.63265306 398.61724282 415.92669721 433.56101624\n",
      " 451.52019992 469.80424823 488.41316118 507.34693878 526.60558101\n",
      " 546.18908788 566.09745939 586.33069554 606.88879633 627.77176177\n",
      " 648.97959184 670.51228655 692.3698459  714.55226989 737.05955852\n",
      " 759.89171179 783.0487297  806.53061224 830.33735943 854.46897126\n",
      " 878.92544773 903.70678884 928.81299459 954.24406497 980.        ] \n",
      "\n",
      " B*C= [ 10.          18.11745106  26.5514369   35.30195752  44.36901291\n",
      "  53.75260308  63.45272803  73.46938776  83.80258226  94.45231154\n",
      " 105.41857559 116.70137443 128.30070804 140.21657643 152.44897959\n",
      " 164.99791753 177.86339025 191.04539775 204.54394002 218.35901708\n",
      " 232.4906289  246.93877551 261.70345689 276.78467305 292.18242399\n",
      " 307.8967097  323.9275302  340.27488546 356.93877551 373.91920033\n",
      " 391.21615993 408.82965431 426.75968347 445.0062474  463.56934611\n",
      " 482.44897959 501.64514786 521.1578509  540.98708871 561.13286131\n",
      " 581.59516868 602.37401083 623.46938776 644.88129946 666.60974594\n",
      " 688.6547272  711.01624323 733.69429404 756.68887963 780.        ]\n"
     ]
    }
   ],
   "source": [
    "print('A+B = ', A+B ,'\\n\\n', 'A*B=', A*B,'\\n\\n', 'A+B=', A+C,'\\n\\n', 'A*B=', A*C,'\\n\\n', 'B*C=', B*C)"
   ]
  },
  {
   "cell_type": "markdown",
   "id": "d0668540",
   "metadata": {},
   "source": [
    "<div class=\"alert alert-block alert-info\" >\n",
    "<h3>\n",
    "    8. Crie uma matriz 3 × 3 , com elementos variando de 0 à 8.\n",
    "</h3>\n",
    "</div>\n"
   ]
  },
  {
   "cell_type": "code",
   "execution_count": 69,
   "id": "e862d8e5",
   "metadata": {},
   "outputs": [
    {
     "data": {
      "text/plain": [
       "array([[0, 1, 2],\n",
       "       [3, 4, 5],\n",
       "       [6, 7, 8]])"
      ]
     },
     "execution_count": 69,
     "metadata": {},
     "output_type": "execute_result"
    }
   ],
   "source": [
    "m = np.arange(0,9) \n",
    "\n",
    "m = m.reshape(3,3)\n",
    "m"
   ]
  },
  {
   "cell_type": "markdown",
   "id": "6f8c5206",
   "metadata": {},
   "source": [
    "<div class=\"alert alert-block alert-info\" >\n",
    "<h3>\n",
    "    9. Crie uma matriz 3 × 3 × 3 com elementos aleatórios.\n",
    "</h3>\n",
    "</div> "
   ]
  },
  {
   "cell_type": "code",
   "execution_count": 70,
   "id": "1cec83c7",
   "metadata": {},
   "outputs": [
    {
     "data": {
      "text/plain": [
       "array([[[ 4.49721557e-134, -1.49622896e-154, -3.10357755e-154],\n",
       "        [ 3.76189518e-250,  1.09895276e-293, -4.99590914e+216],\n",
       "        [-1.17671546e+255,  3.96616567e-227, -4.84908787e+053]],\n",
       "\n",
       "       [[-1.01819832e+063,  4.45161839e-161,  6.95255470e-145],\n",
       "        [ 2.31738013e-052,  3.04390458e-144,  1.57646088e-207],\n",
       "        [ 2.23430905e-308, -2.29677218e-156, -3.45920203e-177]],\n",
       "\n",
       "       [[-1.94691997e+161, -5.14249560e+303,  2.73541795e-291],\n",
       "        [-7.27113805e-142, -8.23435070e+245, -6.07791285e+187],\n",
       "        [ 1.25772929e+164,  7.35724096e+274,  6.50276111e-313]]])"
      ]
     },
     "execution_count": 70,
     "metadata": {},
     "output_type": "execute_result"
    }
   ],
   "source": [
    "m = np.empty((3,3,3)) \n",
    "m"
   ]
  },
  {
   "cell_type": "markdown",
   "id": "02b314bd",
   "metadata": {},
   "source": [
    "<div class=\"alert alert-block alert-info\" >\n",
    "     <h3>10. Usando a função sin do numpy, e a função plot da matplotlib, módulo de geração de gráficos, plote um gráfico contendo os dois primeiros períodos de uma senóide.</h3>\n",
    "</div>\n",
    "   "
   ]
  },
  {
   "cell_type": "code",
   "execution_count": 71,
   "id": "016b7594",
   "metadata": {},
   "outputs": [],
   "source": [
    "import matplotlib.pyplot as plt"
   ]
  },
  {
   "cell_type": "code",
   "execution_count": 48,
   "id": "102dca5b",
   "metadata": {},
   "outputs": [],
   "source": [
    "arr = np.linspace(0, 12.56)"
   ]
  },
  {
   "cell_type": "code",
   "execution_count": 57,
   "id": "7b86652b",
   "metadata": {},
   "outputs": [
    {
     "data": {
      "image/png": "[encoded data removed]",
      "text/plain": [
       "<Figure size 432x288 with 1 Axes>"
      ]
     },
     "metadata": {
      "needs_background": "light"
     },
     "output_type": "display_data"
    }
   ],
   "source": [
    "plt.plot( np.sin(arr))\n",
    "plt.grid()"
   ]
  }
 ],
 "metadata": {
  "kernelspec": {
   "display_name": "Python 3",
   "language": "python",
   "name": "python3"
  },
  "language_info": {
   "codemirror_mode": {
    "name": "ipython",
    "version": 3
   },
   "file_extension": ".py",
   "mimetype": "text/x-python",
   "name": "python",
   "nbconvert_exporter": "python",
   "pygments_lexer": "ipython3",
   "version": "3.8.8"
  }
 },
 "nbformat": 4,
 "nbformat_minor": 5
}
