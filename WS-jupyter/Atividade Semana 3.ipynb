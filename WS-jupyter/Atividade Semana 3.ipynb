{
 "cells": [
  {
   "cell_type": "markdown",
   "id": "22885ff7-cf5f-4067-8298-39e41bde5fee",
   "metadata": {},
   "source": [
    "<div style=\"background-color: #0099ff; padding: 20px; border-top: 10px solid #80ccff; border-bottom: 10px solid #80ccff\" >\n",
    "    <center> \n",
    "        <h1 style=\"color: #fff; line-height: 1.5em\"> Aritmética de Ponto Flutuante <br> e Tratamento de Erros</h1>\n",
    "    </center>\n",
    "    <div class=\"alert alert-block alert-info\" >\n",
    "        <h1>\n",
    "            <center>Lista de Exercícios 2 - Semana 3\n",
    "            <br> \n",
    "            <span style=\" font-size:18px;\">Allan Bastos</span> \n",
    "            </center>\n",
    "        </h1>\n",
    "    </div>\n",
    "</div>"
   ]
  },
  {
   "cell_type": "markdown",
   "id": "192fa4d0-a1a3-4eb5-a783-bc6e5d958c3c",
   "metadata": {},
   "source": [
    "<div class=\"alert alert-block alert-info\" >\n",
    "<h4>\n",
    "    <i class=\"fas fa-arrow-circle-right\"></i> Exercício 1.1\n",
    "</h4>\n",
    "</div>\n"
   ]
  },
  {
   "cell_type": "code",
   "execution_count": 1,
   "id": "734be808-8f77-4661-8ba6-6df1d35aca13",
   "metadata": {},
   "outputs": [],
   "source": [
    "import numpy as np\n",
    "import math\n",
    "import matplotlib.pyplot as plt"
   ]
  },
  {
   "cell_type": "code",
   "execution_count": 2,
   "id": "15cf4fa9-94c8-4f6c-9e55-c0bf6f6a6d92",
   "metadata": {},
   "outputs": [
    {
     "name": "stdout",
     "output_type": "stream",
     "text": [
      "|x: 6.0000000000\t |x_: 36.0000000000 \t |erroA: 30.0000000000 \t| erroR: 0.8333333333 |erro% 83.33%\n",
      "|x: 6.0000000000\t |x_: 18.5000000000 \t |erroA: 12.5000000000 \t| erroR: 0.3472222222 |erro% 34.72%\n",
      "|x: 6.0000000000\t |x_: 10.2229729730 \t |erroA: 4.2229729730 \t| erroR: 0.1173048048 |erro% 11.73%\n",
      "|x: 6.0000000000\t |x_: 6.8722267376 \t |erroA: 0.8722267376 \t| erroR: 0.0242285205 |erro% 2.42%\n",
      "|x: 6.0000000000\t |x_: 6.0553517448 \t |erroA: 0.0553517448 \t| erroR: 0.0015375485 |erro% 0.15%\n",
      "|x: 6.0000000000\t |x_: 6.0002529841 \t |erroA: 0.0002529841 \t| erroR: 0.0000070273 |erro% 0.00%\n",
      "|x: 6.0000000000\t |x_: 6.0000000053 \t |erroA: 0.0000000053 \t| erroR: 0.0000000001 |erro% 0.00%\n",
      "|x: 6.0000000000\t |x_: 6.0000000000 \t |erroA: 0.0000000000 \t| erroR: 0.0000000000 |erro% 0.00%\n",
      "|x: 6.0000000000\t |x_: 6.0000000000 \t |erroA: 0.0000000000 \t| erroR: 0.0000000000 |erro% 0.00%\n",
      "|x: 6.0000000000\t |x_: 6.0000000000 \t |erroA: 0.0000000000 \t| erroR: 0.0000000000 |erro% 0.00%\n",
      "|x: 6.0000000000\t |x_: 6.0000000000 \t |erroA: 0.0000000000 \t| erroR: 0.0000000000 |erro% 0.00%\n"
     ]
    }
   ],
   "source": [
    "a = 36\n",
    "l=[]\n",
    "\n",
    "for i in range(11): \n",
    "    if(i== 0):\n",
    "        x = a\n",
    "    else:\n",
    "        x = (l[i-1] + a / l[i-1]) /2\n",
    "    l.append(x)\n",
    "    raiz = math.sqrt(a)\n",
    "    erroA = np.abs(raiz - l[i])\n",
    "    erroR = np.abs(erroA/a)\n",
    "    print(\"|x: {:.10f}\\t |x_: {:.10f} \\t |erroA: {:.10f} \\t| erroR: {:.10f} |erro% {:.2f}%\".format(raiz, l[i], erroA, erroR, erroR*100))\n",
    "    "
   ]
  },
  {
   "cell_type": "markdown",
   "id": "12ddfa6b-e9a4-425e-8620-2d49cbfa8518",
   "metadata": {},
   "source": [
    "<div class=\"alert alert-block alert-info\" >\n",
    "<h4>\n",
    "    <i class=\"fas fa-arrow-circle-right\"></i> Exercício 1.2\n",
    "</h4>\n",
    "</div>\n"
   ]
  },
  {
   "cell_type": "code",
   "execution_count": 3,
   "id": "1f5a763e-59de-4fdf-95ea-593b60a39778",
   "metadata": {},
   "outputs": [],
   "source": [
    "def epsilon():\n",
    "    e = 1\n",
    "    while True:\n",
    "        if(1 + e <= 1):\n",
    "            e = 2*e\n",
    "            return e\n",
    "        else:\n",
    "            e = e/2"
   ]
  },
  {
   "cell_type": "code",
   "execution_count": 4,
   "id": "cd20ca71-d0af-4f30-b9dc-014a1c0163a7",
   "metadata": {},
   "outputs": [
    {
     "name": "stdout",
     "output_type": "stream",
     "text": [
      "2.220446049250313e-16\n"
     ]
    },
    {
     "data": {
      "text/plain": [
       "2.220446049250313e-16"
      ]
     },
     "execution_count": 4,
     "metadata": {},
     "output_type": "execute_result"
    }
   ],
   "source": [
    "print(epsilon())\n",
    "np.finfo(float).eps"
   ]
  },
  {
   "cell_type": "markdown",
   "id": "a598dcb0-a436-487c-af2c-e34ca3097640",
   "metadata": {},
   "source": [
    "<div class=\"alert alert-block alert-info\" >\n",
    "<h4>\n",
    "    <i class=\"fas fa-arrow-circle-right\"></i> Exercício 1.3\n",
    "</h4>\n",
    "</div>\n"
   ]
  },
  {
   "cell_type": "code",
   "execution_count": 5,
   "id": "6cdb9329-3ec3-4ca6-a28d-61aad92a12b6",
   "metadata": {},
   "outputs": [
    {
     "name": "stdout",
     "output_type": "stream",
     "text": [
      "[0.3333333333333333, 0.33333333333333326, 0.33333333333333326, 0.33333333333333326, 0.33333333333333326, 0.33333333333333326, 0.33333333333333326, 0.33333333333333326, 0.33333333333333326, 0.33333333333333326, 0.33333333333333326, 0.33333333333333326, 0.33333333333333326, 0.33333333333333326, 0.33333333333333326, 0.33333333333333326, 0.33333333333333326, 0.33333333333333326, 0.33333333333333326, 0.33333333333333326, 0.33333333333333326, 0.33333333333333326, 0.33333333333333326, 0.33333333333333326, 0.33333333333333326, 0.33333333333333326, 0.33333333333333326, 0.33333333333333326, 0.33333333333333326, 0.33333333333333326, 0.33333333333333326, 0.33333333333333326, 0.33333333333333326, 0.33333333333333326, 0.33333333333333326, 0.33333333333333326, 0.33333333333333326, 0.33333333333333326, 0.33333333333333326, 0.33333333333333326, 0.33333333333333326, 0.33333333333333326, 0.33333333333333326, 0.33333333333333326, 0.33333333333333326, 0.33333333333333326, 0.33333333333333326, 0.33333333333333326, 0.33333333333333326, 0.33333333333333326, 0.33333333333333326, 0.33333333333333326, 0.33333333333333326, 0.33333333333333326, 0.33333333333333326, 0.33333333333333326, 0.33333333333333326, 0.33333333333333326, 0.33333333333333326, 0.33333333333333326, 0.33333333333333326, 0.33333333333333326, 0.33333333333333326, 0.33333333333333326, 0.33333333333333326, 0.33333333333333326, 0.33333333333333326, 0.33333333333333326, 0.33333333333333326, 0.33333333333333326, 0.33333333333333326, 0.33333333333333326, 0.33333333333333326, 0.33333333333333326, 0.33333333333333326, 0.33333333333333326, 0.33333333333333326, 0.33333333333333326, 0.33333333333333326, 0.33333333333333326, 0.33333333333333326, 0.33333333333333326, 0.33333333333333326, 0.33333333333333326, 0.33333333333333326, 0.33333333333333326, 0.33333333333333326, 0.33333333333333326, 0.33333333333333326, 0.33333333333333326, 0.33333333333333326, 0.33333333333333326, 0.33333333333333326, 0.33333333333333326, 0.33333333333333326, 0.33333333333333326, 0.33333333333333326, 0.33333333333333326, 0.33333333333333326, 0.33333333333333326, 0.33333333333333326]\n"
     ]
    }
   ],
   "source": [
    "x = [1/3]\n",
    "\n",
    "for i in range(100):\n",
    "    x.append(4*(x[0]) - 1)\n",
    "print(x)"
   ]
  },
  {
   "cell_type": "markdown",
   "id": "d1ea4ebb-843a-4db7-a7e3-860f47b6bccf",
   "metadata": {},
   "source": [
    "Ela diverge, pois qualquer serie infinita diferente de 0 diverge;"
   ]
  },
  {
   "cell_type": "markdown",
   "id": "e2483080-def1-435f-b720-1d8c69f787ef",
   "metadata": {},
   "source": [
    "<div class=\"alert alert-block alert-info\" >\n",
    "<h4>\n",
    "    <i class=\"fas fa-arrow-circle-right\"></i> Exercício 1.4\n",
    "</h4>\n",
    "</div>\n"
   ]
  },
  {
   "cell_type": "code",
   "execution_count": 6,
   "id": "ca8e570b-63b9-4a72-b5af-6153e63925eb",
   "metadata": {},
   "outputs": [],
   "source": [
    "def fun1(u):\n",
    "    try:\n",
    "        res = (math.exp(1/u)) / (1 + math.exp(1/u))\n",
    "    except OverflowError:\n",
    "        res = float('inf')\n",
    "    print(\"{} \\t: {}\".format(u, res))\n",
    "    \n",
    "def fun2(u):\n",
    "    print(u,\" \\t:\", (1 / (math.exp(-1/u) + 1)))"
   ]
  },
  {
   "cell_type": "code",
   "execution_count": 7,
   "id": "0b922487-d36e-41f7-a2f5-e6a56c609a31",
   "metadata": {},
   "outputs": [
    {
     "name": "stdout",
     "output_type": "stream",
     "text": [
      "0.1 \t: 0.9999546021312976\n",
      "0.01 \t: 1.0\n",
      "0.001 \t: inf\n",
      "0.0001 \t: inf\n",
      "-=-=-=-=-=-=-=-=-=-=-=-=-=-=-=\n",
      "0.1  \t: 0.9999546021312976\n",
      "0.01  \t: 1.0\n",
      "0.001  \t: 1.0\n",
      "1e-05  \t: 1.0\n",
      "1e-06  \t: 1.0\n",
      "1e-07  \t: 1.0\n",
      "1e-08  \t: 1.0\n"
     ]
    }
   ],
   "source": [
    "fun1(0.1)\n",
    "fun1(0.01)\n",
    "fun1(0.001)\n",
    "fun1(0.0001)\n",
    "\n",
    "print(15*\"-=\")\n",
    "\n",
    "fun2(0.1)\n",
    "fun2(0.01)\n",
    "fun2(0.001)\n",
    "fun2(0.00001)\n",
    "fun2(0.000001)\n",
    "fun2(0.0000001)\n",
    "fun2(0.00000001)"
   ]
  },
  {
   "cell_type": "markdown",
   "id": "bbb1e479-6a01-432a-bf67-028b3e837c8d",
   "metadata": {},
   "source": [
    "<center>A segunda expressão: $  \\frac{1}{exp(−1/µ) + 1}  $,\n",
    "pois ele consegue tratar numeros menores sem dar um overflow.\n",
    "<br>enquanto na primeira expressão podemos observar que com apenas 3 casas após a virgula ele não conseguiu mais tratar e houve um estouro; </center>"
   ]
  },
  {
   "cell_type": "markdown",
   "id": "8415d16d-5e43-479d-b691-1e84f95056a3",
   "metadata": {},
   "source": [
    "<div class=\"alert alert-block alert-info\" >\n",
    "<h4>\n",
    "    <i class=\"fas fa-arrow-circle-right\"></i> Exercício 1.5\n",
    "</h4>\n",
    "</div>\n"
   ]
  },
  {
   "cell_type": "code",
   "execution_count": 8,
   "id": "7c825ce9-c197-45bd-885b-c0004d86cb81",
   "metadata": {},
   "outputs": [],
   "source": [
    "def f(x):\n",
    "     return ((1 + x) - 1) / x"
   ]
  },
  {
   "cell_type": "code",
   "execution_count": 9,
   "id": "caa46237-beca-4deb-ba35-32a0bf82c8b3",
   "metadata": {},
   "outputs": [
    {
     "name": "stdout",
     "output_type": "stream",
     "text": [
      "1.000000082740371\n",
      "0.9992007221626409\n",
      "0.0\n"
     ]
    }
   ],
   "source": [
    "print(f(10e-12))\n",
    "print(f(10e-15))\n",
    "print(f(10e-17))"
   ]
  },
  {
   "cell_type": "markdown",
   "id": "8565447a-d972-491b-9c39-2db5e450e16e",
   "metadata": {},
   "source": [
    "<p style=\"text-align:center;\">Isso acontece pois o numero está muito proximo de 0 e por conta disso está havendo um cancelamento catastrofico, ou seja houve um underflow.</p>"
   ]
  }
 ],
 "metadata": {
  "kernelspec": {
   "display_name": "Python 3",
   "language": "python",
   "name": "python3"
  },
  "language_info": {
   "codemirror_mode": {
    "name": "ipython",
    "version": 3
   },
   "file_extension": ".py",
   "mimetype": "text/x-python",
   "name": "python",
   "nbconvert_exporter": "python",
   "pygments_lexer": "ipython3",
   "version": "3.8.8"
  }
 },
 "nbformat": 4,
 "nbformat_minor": 5
}
